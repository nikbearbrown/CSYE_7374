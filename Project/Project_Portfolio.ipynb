{
 "cells": [
  {
   "attachments": {},
   "cell_type": "markdown",
   "metadata": {},
   "source": [
    "# Research Portfolio Autonomous Behavior and Learning in Games\n"
   ]
  },
  {
   "attachments": {},
   "cell_type": "markdown",
   "metadata": {},
   "source": [
    "The Research Portfolio is a technical writing portfolio blog intended to _teach_ another NEU Master's student a techical subject related game artificial intellgence.\n",
    "\n",
    "It should include running code and explainations. Content MUST be written as jupyter notebooks. For example, one coulde rewrite in your own words and enhance one of these tutorials  https://simoninithomas.github.io/Deep_reinforcement_learning_Course/  His courses model what your final output should be. For example create your own version on Deep Q-Learning.  It must have assessments.\n",
    "\n",
    "You could also write a tutorial on the game AI in _your_ game.\n",
    "\n",
    "The following topics are related to game AI (certainly not comprehensive):\n",
    "\n",
    "Your Game  \n",
    "- Teach how you implemted AI in your game  \n",
    "\n",
    "Classical Game AI  \n",
    "- Constraint Satisfaction Problems  \n",
    "- Classical Search, Adversarial Search  \n",
    "- Automated Planning  \n",
    "- Optimization Problems  \n",
    "- Probabilistic Models  \n",
    "- Markov decision processes (MDPs)  \n",
    "\n",
    "Deep Learning in Games  \n",
    "- CNNs, RNNs  \n",
    "- Autoencoders, VAEs, and GANs  \n",
    "- Time-Series Models, Auto-regressive NN  \n",
    "\n",
    "Reinforcement Learning for Games  \n",
    "- Monte Carlo Methods  \n",
    "- Temporal difference (TD) learning  \n",
    "- Value-Based Methods  \n",
    "- Q-Learning  \n",
    "- Deep Q-Learning  \n",
    "- Policy-Based Methods  \n",
    "- Multi-Agent Reinforcement Learning  \n",
    "- Imitation learning\n",
    "                \n",
    "\n",
    "_Did I create effective assements? (15 Points)_\n",
    "You must create assements like quiz questions and programming question that allow a user to self-assess the material you cover.\n",
    "\n",
    "_Did I explain my idea clearly? (25 Points)_\n",
    "How effective are you at explaining what you are doing?\n",
    "\n",
    "_It MUST run and be in a stand alone jupyter notebook. (10 Points)_ \n",
    "\n",
    "_What code/writing is yours and what have you adapted? (10 Points)_    \n",
    "You must explain what code and writing is yours and what you have done that is different. Failure to cite ANY code or writing will result in a zero for this section.\n",
    "\n",
    "_Did I explain my code clearly? (10 Points)_\n",
    "Your code review score will be scaled to a range of 0 to 10 and be used for this score.  The code MUST follow Google Python Style Guide http://google.github.io/styleguide/pyguide.html and be in python 3+. \n",
    "\n",
    "_Did I explain my licensing clearly? (10 Points)_\n",
    "Failure to cite a clear license will result in a zero for this section.  This includes whether you wish to contribute to the I2SL project.\n",
    "\n",
    "_Is the scope enough for a semesters work? (20 Points)_\n",
    "Is the scope is appropriate for the number of people in the group and it being a semester project?\n"
   ]
  },
  {
   "cell_type": "markdown",
   "metadata": {},
   "source": [
    "_Portfolio_  \n",
    "\n",
    "**Grading Rubric:**\n",
    "\n",
    "The following breakdown will be used for determining the score for the portfolio: \n",
    "\n",
    "| Assignment                                 | Points   |\n",
    "|--------------------------------------------|----------|\n",
    "| Did I explain my idea clearly?             |       25 |\n",
    "| Does the code run as a notebook?           |       10 |\n",
    "| Did I create effective assements?          |       15 |\n",
    "| Did I explain my code clearly?             |       10 |\n",
    "| Proper attribution.                        |       10 |\n",
    "| Did I explain my license clearly?          |       10 |\n",
    "| Is the scope enough for a semesters work?  |       20 |\n",
    "\n",
    "\n",
    "**licensing**\n",
    "\n",
    "The MIT license [https://opensource.org/licenses/MIT](https://opensource.org/licenses/MIT) is suggested for the code.  \n",
    "\n",
    "The Creative Commons Attribution 3.0 License [https://creativecommons.org/licenses/by/3.0/us/](https://creativecommons.org/licenses/by/3.0/us/)  is suggested for the writing.   \n",
    "\n",
    "** Examples.**   \n",
    "\n",
    " Example portfolios will be put up at [https://github.com/nikbearbrown/](https://github.com/nikbearbrown/)  \n",
    "\n",
    "**The portfolio MUST be in a jupyter notebook.**     \n"
   ]
  },
  {
   "cell_type": "markdown",
   "metadata": {},
   "source": [
    "Last update July 8, 2019"
   ]
  }
 ],
 "metadata": {
  "kernelspec": {
   "display_name": "Python 3",
   "language": "python",
   "name": "python3"
  },
  "language_info": {
   "codemirror_mode": {
    "name": "ipython",
    "version": 3
   },
   "file_extension": ".py",
   "mimetype": "text/x-python",
   "name": "python",
   "nbconvert_exporter": "python",
   "pygments_lexer": "ipython3",
   "version": "3.6.9"
  }
 },
 "nbformat": 4,
 "nbformat_minor": 2
}
